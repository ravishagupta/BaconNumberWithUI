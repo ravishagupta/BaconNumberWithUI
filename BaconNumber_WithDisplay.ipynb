{
 "cells": [
  {
   "cell_type": "code",
   "execution_count": null,
   "metadata": {},
   "outputs": [],
   "source": [
    "import pandas as pd\n",
    "import numpy as np\n",
    "import networkx as nx\n",
    "import matplotlib.pyplot as plt\n",
    "from itertools import combinations"
   ]
  },
  {
   "cell_type": "code",
   "execution_count": null,
   "metadata": {},
   "outputs": [],
   "source": [
    "df = pd.read_json('https://raw.githubusercontent.com/jtao/dswebinar/master/networkx/case2.2/Movie_Data.txt', lines = True)"
   ]
  },
  {
   "cell_type": "code",
   "execution_count": null,
   "metadata": {},
   "outputs": [],
   "source": [
    "G = nx.Graph()\n",
    "for x in range(0,len(df)):\n",
    "    myList = list(combinations(df['cast'][x],2))\n",
    "    G.add_edges_from(myList)"
   ]
  },
  {
   "cell_type": "code",
   "execution_count": null,
   "metadata": {},
   "outputs": [],
   "source": [
    "def actor_movie_actor(Actor1_Name, Actor2_Name):\n",
    "    try:\n",
    "      bcn_num = nx.shortest_path_length(G, Actor1_Name, Actor2_Name)\n",
    "      path = nx.shortest_path(G, Actor1_Name, Actor2_Name)\n",
    "    except:\n",
    "      return \"Actors not found in the Database, check spelling!\"\n",
    "    result = []\n",
    "    for x in range(0, len(path) - 1):           \n",
    "      #Going from 0 to size-1 to ensure we don't exceed the size of the \n",
    "      #list while accessing the second actor\n",
    "      actor1 = path[x]\n",
    "      actor2 = path[x + 1]\n",
    "      for i in range(0,len(df)):\n",
    "          try:\n",
    "            if actor1 in df[\"cast\"][i] and actor2 in df[\"cast\"][i]:\n",
    "                inner_list = []\n",
    "                inner_list.append(actor1)\n",
    "                inner_list.append(df['title'][i])\n",
    "                inner_list.append(actor2)\n",
    "                result.append(inner_list)\n",
    "                break                \n",
    "          except:\n",
    "            pass\n",
    "    \n",
    "    result_str = \"\"\n",
    "    for element in result:\n",
    "        result_str = result_str + element[0] + \" worked with \" + element[2] + \" in the movie \" + element[1] + '\\n' \n",
    "    result_str = result_str + '\\n' +\"Therefore the Bacon Number is \" + str(bcn_num)\n",
    "    \n",
    "    return result_str"
   ]
  },
  {
   "cell_type": "code",
   "execution_count": null,
   "metadata": {},
   "outputs": [],
   "source": [
    "import tkinter as tk\n",
    "from tkinter import *\n",
    "from PIL import Image, ImageTk\n",
    "from tkinter import filedialog\n",
    "from tkinter import Tk, Label, Canvas\n",
    "from tkinter import ttk\n",
    "import pandas as pd\n",
    "import urllib\n",
    "\n",
    "def show_entry_fields():\n",
    "    output.delete('1.0', END)\n",
    "    output.insert(END, str(actor_movie_actor(txt_actor1.get(), txt_actor2.get())) +'\\n')\n",
    "    \n",
    "master = tk.Tk()\n",
    "master.geometry(\"900x400\")\n",
    "background_image = PhotoImage(file = 'C:\\\\Users\\\\Ravisha\\\\Pictures\\\\movie.png' )\n",
    "myvar = tk.Label(master,image = background_image)\n",
    "myvar.place(x=0, y=0, relwidth=1, relheight=1)\n",
    "\n",
    "\n",
    "#background_label = tk.Label(parent, image=background_image)\n",
    "#background_label.place(x=0, y=0, relwidth=1, relheight=1)\n",
    "\n",
    "# Set background color\n",
    "#master.configure(background='cyan3')\n",
    "\n",
    "#myFont = font.Font(family='Helvetica')\n",
    "\n",
    "# Set title\n",
    "master.title(\"Bacon Number\")\n",
    "\n",
    "tk.Label(master, text=\"Enter the First Actor\", bg = 'snow3', fg ='black', \n",
    "         font='Helvetica 14 bold', anchor = \"e\", padx = 16).grid(row=0, column=0)\n",
    "\n",
    "\n",
    "tk.Label(master, text=\"Enter the Second Actor\", bg = 'snow3', fg ='black', \n",
    "         font='Helvetica 14 bold', anchor = \"e\").grid(row=1, column=0)\n",
    "\n",
    "#background_label.place(x=0, y=0, relwidth=1, relheight=1)\n",
    "\n",
    "txt_actor1 = tk.Entry(master, borderwidth = 3, relief= SOLID)\n",
    "txt_actor2 = tk.Entry(master, borderwidth = 3, relief = SOLID)\n",
    "\n",
    "txt_actor1.grid(row=0, column=1, sticky=tk.W)\n",
    "txt_actor2.grid(row=1, column=1, sticky=tk.W)\n",
    "\n",
    "tk.Button(master, \n",
    "          text='Show', command=show_entry_fields, relief = SOLID, fg = 'black', font='Helvetica 10 bold').grid(row=2, \n",
    "                                                       column=1, \n",
    "                                                       sticky=tk.W, \n",
    "                                                       pady=4)\n",
    "\n",
    "output = Text(master, width=80, height= 15, bg = 'snow3', borderwidth = 3, relief = SOLID)\n",
    "output.grid(row=3, column=1)\n",
    "\n",
    "tk.mainloop()"
   ]
  }
 ],
 "metadata": {
  "kernelspec": {
   "display_name": "Python 3",
   "language": "python",
   "name": "python3"
  },
  "language_info": {
   "codemirror_mode": {
    "name": "ipython",
    "version": 3
   },
   "file_extension": ".py",
   "mimetype": "text/x-python",
   "name": "python",
   "nbconvert_exporter": "python",
   "pygments_lexer": "ipython3",
   "version": "3.7.3"
  }
 },
 "nbformat": 4,
 "nbformat_minor": 2
}
